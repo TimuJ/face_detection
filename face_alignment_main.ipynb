{
 "cells": [
  {
   "cell_type": "code",
   "execution_count": 1,
   "metadata": {},
   "outputs": [],
   "source": [
    "import os\n",
    "import dlib\n",
    "import glob\n",
    "import numpy as np\n",
    "\n",
    "from skimage import io"
   ]
  },
  {
   "cell_type": "code",
   "execution_count": 25,
   "metadata": {},
   "outputs": [],
   "source": [
    "predictor_path = \"/home/timur/Desktop/jupyter_wf/test_tasks/face_reckon/data/shape_predictor_68_face_landmarks.dat\"\n",
    "jpg_test_files = glob.glob(\"data/Menpo_68p/test/*.jpg\")"
   ]
  },
  {
   "cell_type": "code",
   "execution_count": 27,
   "metadata": {},
   "outputs": [],
   "source": [
    "detector = dlib.get_frontal_face_detector()\n",
    "predictor = dlib.shape_predictor(predictor_path)"
   ]
  },
  {
   "cell_type": "code",
   "execution_count": 4,
   "metadata": {},
   "outputs": [],
   "source": [
    "output_files = glob.glob(\"data/Menpo_68p/preds/dlib_-1/*.pts\")"
   ]
  },
  {
   "cell_type": "code",
   "execution_count": 5,
   "metadata": {},
   "outputs": [],
   "source": [
    "pts_files = glob.glob(\"data/Menpo_68p/test/*.pts\")"
   ]
  },
  {
   "cell_type": "code",
   "execution_count": 61,
   "metadata": {},
   "outputs": [],
   "source": [
    "filenames = next(os.walk(\"data/Menpo_68p/preds/dlib_-1/\"), (None, None, []))[2]\n",
    "pred_names = next(os.walk(\"data/Menpo_68p/123/\"), (None, None, []))[2]"
   ]
  },
  {
   "cell_type": "code",
   "execution_count": 72,
   "metadata": {},
   "outputs": [
    {
     "data": {
      "text/plain": [
       "{'aflw__face_41703.pts'}"
      ]
     },
     "execution_count": 72,
     "metadata": {},
     "output_type": "execute_result"
    }
   ],
   "source": [
    "set(pred_names) - set(filenames)"
   ]
  },
  {
   "cell_type": "markdown",
   "metadata": {},
   "source": [
    "{'aflw__face_41703.pts'}"
   ]
  },
  {
   "cell_type": "code",
   "execution_count": 76,
   "metadata": {},
   "outputs": [
    {
     "ename": "KeyboardInterrupt",
     "evalue": "",
     "output_type": "error",
     "traceback": [
      "\u001b[0;31m---------------------------------------------------------------------------\u001b[0m",
      "\u001b[0;31mKeyboardInterrupt\u001b[0m                         Traceback (most recent call last)",
      "Cell \u001b[0;32mIn[76], line 3\u001b[0m\n\u001b[1;32m      1\u001b[0m \u001b[38;5;28;01mfor\u001b[39;00m image \u001b[38;5;129;01min\u001b[39;00m jpg_test_files:\n\u001b[1;32m      2\u001b[0m     img \u001b[38;5;241m=\u001b[39m io\u001b[38;5;241m.\u001b[39mimread(image)\n\u001b[0;32m----> 3\u001b[0m     dets, scores, idx \u001b[38;5;241m=\u001b[39m \u001b[43mdetector\u001b[49m\u001b[38;5;241;43m.\u001b[39;49m\u001b[43mrun\u001b[49m\u001b[43m(\u001b[49m\u001b[43mimg\u001b[49m\u001b[43m,\u001b[49m\u001b[43m \u001b[49m\u001b[38;5;241;43m1\u001b[39;49m\u001b[43m,\u001b[49m\u001b[43m \u001b[49m\u001b[38;5;241;43m-\u001b[39;49m\u001b[38;5;241;43m1\u001b[39;49m\u001b[43m)\u001b[49m\n\u001b[1;32m      4\u001b[0m     ouptut_dir \u001b[38;5;241m=\u001b[39m  \u001b[38;5;124m'\u001b[39m\u001b[38;5;124mdata/Menpo_68p/preds/dlib_-123/\u001b[39m\u001b[38;5;124m'\u001b[39m\n\u001b[1;32m      5\u001b[0m     os\u001b[38;5;241m.\u001b[39mmakedirs(os\u001b[38;5;241m.\u001b[39mpath\u001b[38;5;241m.\u001b[39mdirname(ouptut_dir), exist_ok\u001b[38;5;241m=\u001b[39m\u001b[38;5;28;01mTrue\u001b[39;00m)\n",
      "\u001b[0;31mKeyboardInterrupt\u001b[0m: "
     ]
    }
   ],
   "source": [
    "# i = 0\n",
    "# not_reck_faces = []\n",
    "# for image in jpg_test_files:\n",
    "#     img = io.imread(image)\n",
    "#     dets, scores, idx = detector.run(img, 1, -1)\n",
    "#     ouptut_dir =  'data/Menpo_68p/preds/dlib_-123/'\n",
    "#     os.makedirs(os.path.dirname(ouptut_dir), exist_ok=True)\n",
    "#     try:\n",
    "#         shape = predictor(img, dets[0])\n",
    "#         landmark = np.array([[p.x, p.y] for p in shape.parts()])\n",
    "#         # print(\"face_landmark:\")\n",
    "#         # print (landmark) # print key point matrix\n",
    "#         np.savetxt(image.replace('test', 'preds/dlib_-123')[:-4] + '.pts', landmark, fmt='%.3f') \n",
    "#     except IndexError:\n",
    "#         i += 1\n",
    "#         not_reck_faces.append(image)\n",
    "# print(f\"Cound't find face for {i} images. List of images save\")\n",
    "# with open(\"missing_faces.txt\", \"w\") as mf:\n",
    "#     mf.write(str(not_reck_faces))"
   ]
  },
  {
   "cell_type": "code",
   "execution_count": 28,
   "metadata": {},
   "outputs": [],
   "source": [
    "img = io.imread(jpg_test_files[1])\n",
    "dets, scores, idx = detector.run(img, 1, 1)\n",
    "for i, d in enumerate(dets):\n",
    "    print(\"Detection {}: Left: {} Top: {} Right: {} Bottom: {}, score: {}\".format(i, d.left(), d.top(), d.right(), d.bottom(), scores[i]))"
   ]
  },
  {
   "cell_type": "code",
   "execution_count": 24,
   "metadata": {},
   "outputs": [
    {
     "data": {
      "text/plain": [
       "rectangles[]"
      ]
     },
     "execution_count": 24,
     "metadata": {},
     "output_type": "execute_result"
    }
   ],
   "source": [
    "dets"
   ]
  }
 ],
 "metadata": {
  "kernelspec": {
   "display_name": "face_d",
   "language": "python",
   "name": "python3"
  },
  "language_info": {
   "codemirror_mode": {
    "name": "ipython",
    "version": 3
   },
   "file_extension": ".py",
   "mimetype": "text/x-python",
   "name": "python",
   "nbconvert_exporter": "python",
   "pygments_lexer": "ipython3",
   "version": "3.12.4"
  }
 },
 "nbformat": 4,
 "nbformat_minor": 2
}
