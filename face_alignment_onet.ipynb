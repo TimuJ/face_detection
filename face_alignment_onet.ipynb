{
 "cells": [
  {
   "cell_type": "code",
   "execution_count": null,
   "metadata": {},
   "outputs": [],
   "source": [
    "import torch\n",
    "import torch.nn as nn\n",
    "import torch.nn.functional as F"
   ]
  },
  {
   "cell_type": "code",
   "execution_count": null,
   "metadata": {},
   "outputs": [],
   "source": [
    "path_to_file = '/data/Menpo_68p/test/aflw__face_39844.jpg'"
   ]
  },
  {
   "cell_type": "code",
   "execution_count": null,
   "metadata": {},
   "outputs": [],
   "source": [
    "input = io.imread(path_to_file)\n",
    "preds = fa.get_landmarks(input)"
   ]
  },
  {
   "cell_type": "code",
   "execution_count": null,
   "metadata": {},
   "outputs": [],
   "source": [
    "def weights_init(m):\n",
    "    if isinstance(m, nn.Conv2d) or isinstance(m, nn.Linear):\n",
    "        nn.init.xavier_uniform(m.weight.data)\n",
    "        nn.init.constant(m.bias, 0.1)"
   ]
  },
  {
   "cell_type": "code",
   "execution_count": null,
   "metadata": {},
   "outputs": [],
   "source": [
    "class ONet(nn.Module):\n",
    "    ''' RNet '''\n",
    "\n",
    "    def __init__(self,is_train=False, use_cuda=True):\n",
    "        super(ONet, self).__init__()\n",
    "        self.is_train = is_train\n",
    "        self.use_cuda = use_cuda\n",
    "        # backend\n",
    "        self.pre_layer = nn.Sequential(\n",
    "            nn.Conv2d(3, 32, kernel_size=3, stride=1),  # conv1\n",
    "            nn.PReLU(),  # prelu1\n",
    "            nn.MaxPool2d(kernel_size=3, stride=2),  # pool1\n",
    "            nn.Conv2d(32, 64, kernel_size=3, stride=1),  # conv2\n",
    "            nn.PReLU(),  # prelu2\n",
    "            nn.MaxPool2d(kernel_size=3, stride=2),  # pool2\n",
    "            nn.Conv2d(64, 64, kernel_size=3, stride=1),  # conv3\n",
    "            nn.PReLU(), # prelu3\n",
    "            nn.MaxPool2d(kernel_size=2,stride=2), # pool3\n",
    "            nn.Conv2d(64,128,kernel_size=2,stride=1), # conv4\n",
    "            nn.PReLU() # prelu4\n",
    "        )\n",
    "        self.conv5 = nn.Linear(128*2*2, 256)  # conv5\n",
    "        self.prelu5 = nn.PReLU()  # prelu5\n",
    "        # lanbmark localization\n",
    "        self.conv6_3 = nn.Linear(256, 136)\n",
    "        # weight initiation weih xavier\n",
    "        self.apply(weights_init)\n",
    "\n",
    "    def forward(self, x):\n",
    "        # backend\n",
    "        x = self.pre_layer(x)\n",
    "        x = x.view(x.size(0), -1)\n",
    "        x = self.conv5(x)\n",
    "        x = self.prelu5(x)\n",
    "        # detection\n",
    "        landmark = self.conv6_3(x)\n",
    "        if self.is_train is True:\n",
    "            return det, box, landmark\n",
    "        #landmard = self.conv5_3(x)\n",
    "        return landmark"
   ]
  }
 ],
 "metadata": {
  "kernelspec": {
   "display_name": "face_d",
   "language": "python",
   "name": "python3"
  },
  "language_info": {
   "codemirror_mode": {
    "name": "ipython",
    "version": 3
   },
   "file_extension": ".py",
   "mimetype": "text/x-python",
   "name": "python",
   "nbconvert_exporter": "python",
   "pygments_lexer": "ipython3",
   "version": "3.12.4"
  }
 },
 "nbformat": 4,
 "nbformat_minor": 2
}
