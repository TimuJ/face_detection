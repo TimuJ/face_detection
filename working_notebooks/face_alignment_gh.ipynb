{
 "cells": [
  {
   "cell_type": "code",
   "execution_count": 1,
   "metadata": {},
   "outputs": [
    {
     "name": "stdout",
     "output_type": "stream",
     "text": [
      "Looking in indexes: https://mirrors.aliyun.com/pypi/simple/, https://pypi.ngc.nvidia.com\n",
      "Collecting face-alignment\n",
      "  Downloading https://mirrors.aliyun.com/pypi/packages/a1/7e/36e212aa11d227a6d9afae540e91f161a7db3ad28177804403fe45fda5e2/face_alignment-1.4.1-py2.py3-none-any.whl (30 kB)\n",
      "Collecting torch (from face-alignment)\n",
      "  Downloading https://mirrors.aliyun.com/pypi/packages/bf/55/b6c74df4695f94a9c3505021bc2bd662e271d028d055b3b2529f3442a3bd/torch-2.4.0-cp312-cp312-manylinux1_x86_64.whl (797.2 MB)\n",
      "\u001b[2K     \u001b[90m━━━━━━━━━━━━━━━━━━━━━━━━━━━━━━━━━━━━━━━\u001b[0m \u001b[32m9.8/797.2 MB\u001b[0m \u001b[31m152.9 kB/s\u001b[0m eta \u001b[36m1:25:50\u001b[0m\n",
      "\u001b[?25h\u001b[31mERROR: THESE PACKAGES DO NOT MATCH THE HASHES FROM THE REQUIREMENTS FILE. If you have updated the package versions, please update the hashes. Otherwise, examine the package contents carefully; someone may have tampered with them.\n",
      "    torch from https://mirrors.aliyun.com/pypi/packages/bf/55/b6c74df4695f94a9c3505021bc2bd662e271d028d055b3b2529f3442a3bd/torch-2.4.0-cp312-cp312-manylinux1_x86_64.whl#sha256=997084a0f9784d2a89095a6dc67c7925e21bf25dea0b3d069b41195016ccfcbb (from face-alignment):\n",
      "        Expected sha256 997084a0f9784d2a89095a6dc67c7925e21bf25dea0b3d069b41195016ccfcbb\n",
      "             Got        e2ad6af0eccde98fbfc75c5a5690842ef675666fd83153e31d049a202c89ba36\n",
      "\u001b[0m\u001b[31m\n",
      "\u001b[0m"
     ]
    }
   ],
   "source": [
    "!pip install face-alignment"
   ]
  },
  {
   "cell_type": "code",
   "execution_count": null,
   "metadata": {},
   "outputs": [],
   "source": [
    "import face_alignment\n",
    "from skimage import io"
   ]
  },
  {
   "cell_type": "code",
   "execution_count": null,
   "metadata": {},
   "outputs": [],
   "source": [
    "fa = face_alignment.FaceAlignment(face_alignment.LandmarksType.TWO_D, flip_input=False)"
   ]
  },
  {
   "cell_type": "code",
   "execution_count": null,
   "metadata": {},
   "outputs": [],
   "source": [
    "path_to_file = '/data/Menpo_68p/test/aflw__face_39844.jpg'"
   ]
  },
  {
   "cell_type": "code",
   "execution_count": null,
   "metadata": {},
   "outputs": [],
   "source": [
    "input = io.imread(path_to_file)\n",
    "preds = fa.get_landmarks(input)"
   ]
  }
 ],
 "metadata": {
  "kernelspec": {
   "display_name": "face_d",
   "language": "python",
   "name": "python3"
  },
  "language_info": {
   "codemirror_mode": {
    "name": "ipython",
    "version": 3
   },
   "file_extension": ".py",
   "mimetype": "text/x-python",
   "name": "python",
   "nbconvert_exporter": "python",
   "pygments_lexer": "ipython3",
   "version": "3.12.4"
  }
 },
 "nbformat": 4,
 "nbformat_minor": 2
}
