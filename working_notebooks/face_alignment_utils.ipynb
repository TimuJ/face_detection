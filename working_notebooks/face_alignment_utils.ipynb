{
 "cells": [
  {
   "cell_type": "markdown",
   "metadata": {},
   "source": [
    "In Menpo dataset we have images with n_points: 39 let's get rid of it. We create a new folder with images with only n_points: 68 and leave original folder as it is"
   ]
  },
  {
   "cell_type": "code",
   "execution_count": 2,
   "metadata": {},
   "outputs": [],
   "source": [
    "import os\n",
    "import glob\n",
    "import shutil"
   ]
  },
  {
   "cell_type": "code",
   "execution_count": 12,
   "metadata": {},
   "outputs": [],
   "source": [
    "def image_points_68(file: str) -> bool:\n",
    "    #take file name, return True if file has 68 face points otherwise false\n",
    "    with open(file, 'rt') as fd:\n",
    "        second_line = fd.readlines()[1]\n",
    "        if second_line == 'n_points: 68\\n':\n",
    "            return True\n",
    "        else:\n",
    "            return False"
   ]
  },
  {
   "cell_type": "code",
   "execution_count": 13,
   "metadata": {},
   "outputs": [],
   "source": [
    "def copy_files(src: list[str], dst: str):\n",
    "    #copy .jpg and .pts files from src dir to dst with image_points_filter, return nothing\n",
    "    for file in src:\n",
    "        flag = image_points_68(file)\n",
    "        if flag == True:\n",
    "            os.makedirs(os.path.dirname(dst), exist_ok=True)\n",
    "            shutil.copy2(file, dst)\n",
    "            shutil.copy2(file[:-4]+'.jpg', dst)"
   ]
  },
  {
   "cell_type": "code",
   "execution_count": 14,
   "metadata": {},
   "outputs": [],
   "source": [
    "pts_test_files = glob.glob(\"data/Menpo/test/*.pts\")\n",
    "pts_train_files = glob.glob(\"data/Menpo/train/*.pts\")\n",
    "sorted_test_files = \"data/Menpo_68p/test/\"\n",
    "sorted_train_files = \"data/Menpo_68p/train/\""
   ]
  },
  {
   "cell_type": "code",
   "execution_count": 15,
   "metadata": {},
   "outputs": [],
   "source": [
    "copy_files(pts_train_files, sorted_train_files)\n",
    "copy_files(pts_test_files, sorted_test_files)"
   ]
  },
  {
   "cell_type": "code",
   "execution_count": 3,
   "metadata": {},
   "outputs": [],
   "source": [
    "pts_train_files = glob.glob(\"data/300W/train/*.pts\")"
   ]
  },
  {
   "cell_type": "code",
   "execution_count": 4,
   "metadata": {},
   "outputs": [
    {
     "data": {
      "text/plain": [
       "329"
      ]
     },
     "execution_count": 4,
     "metadata": {},
     "output_type": "execute_result"
    }
   ],
   "source": [
    "int(len(pts_train_files)*0.1)"
   ]
  },
  {
   "cell_type": "code",
   "execution_count": 7,
   "metadata": {},
   "outputs": [],
   "source": [
    "for i in range(int(len(pts_train_files)*0.1)):\n",
    "    shutil.move(pts_train_files[i], \"data/300W/val\")\n",
    "    try:\n",
    "        shutil.move(pts_train_files[i][:-4] + '.jpg', \"data/300W/val\")\n",
    "    except FileNotFoundError:\n",
    "        shutil.move(pts_train_files[i][:-4] + '.png', \"data/300W/val\")\n"
   ]
  }
 ],
 "metadata": {
  "kernelspec": {
   "display_name": "face_d",
   "language": "python",
   "name": "python3"
  },
  "language_info": {
   "codemirror_mode": {
    "name": "ipython",
    "version": 3
   },
   "file_extension": ".py",
   "mimetype": "text/x-python",
   "name": "python",
   "nbconvert_exporter": "python",
   "pygments_lexer": "ipython3",
   "version": "3.12.4"
  }
 },
 "nbformat": 4,
 "nbformat_minor": 2
}
